{
 "cells": [
  {
   "cell_type": "code",
   "execution_count": 1,
   "metadata": {},
   "outputs": [
    {
     "name": "stderr",
     "output_type": "stream",
     "text": [
      "/Users/nakayamadaiki/.asdf/installs/python/3.11.6/lib/python3.11/site-packages/pyspark/pandas/__init__.py:50: UserWarning: 'PYARROW_IGNORE_TIMEZONE' environment variable was not set. It is required to set this environment variable to '1' in both driver and executor sides if you use pyarrow>=2.0.0. pandas-on-Spark will set it for you but it does not work if there is a Spark context already launched.\n",
      "  warnings.warn(\n"
     ]
    }
   ],
   "source": [
    "from pyspark.sql import SparkSession\n",
    "import pyspark.pandas as ps"
   ]
  },
  {
   "cell_type": "code",
   "execution_count": 6,
   "metadata": {},
   "outputs": [
    {
     "name": "stderr",
     "output_type": "stream",
     "text": [
      "24/04/16 18:37:31 WARN SparkSession: Using an existing Spark session; only runtime SQL configurations will take effect.\n"
     ]
    },
    {
     "name": "stdout",
     "output_type": "stream",
     "text": [
      "Reading the dataset...\n"
     ]
    },
    {
     "name": "stderr",
     "output_type": "stream",
     "text": [
      "/Users/nakayamadaiki/.asdf/installs/python/3.11.6/lib/python3.11/site-packages/pyspark/pandas/utils.py:1016: PandasAPIOnSparkAdviceWarning: If `index_col` is not specified for `read_csv`, the default index is attached which can cause additional overhead.\n",
      "  warnings.warn(message, PandasAPIOnSparkAdviceWarning)\n"
     ]
    }
   ],
   "source": [
    "# Loading dataset\n",
    "spark = SparkSession.builder \\\n",
    "    .appName(\"SocialMediaAddictionPredictor\") \\\n",
    "    .getOrCreate()\n",
    "print(\"Reading the dataset...\")\n",
    "spark_df = spark.read.csv('./Data/dataset.csv')"
   ]
  },
  {
   "cell_type": "code",
   "execution_count": 7,
   "metadata": {},
   "outputs": [],
   "source": [
    "spark_df.rename(columns={'1. What is your age?': 'Age', '2. Gender': 'Gender', '3. Relationship Status': 'Relationship Status',\n",
    "                         '4. Occupation Status': 'Occupation',\n",
    "                         '5. What type of organizations are you affiliated with?': 'Affiliations',\n",
    "                         '6. Do you use social media?': 'Social Media User?',\n",
    "                         '7. What social media platforms do you commonly use?': 'Platforms Used',\n",
    "                         '8. What is the average time you spend on social media every day?': 'Hours Per Day',\n",
    "                         '9. How often do you find yourself using Social media without a specific purpose?': 'ADHD Q1',\n",
    "                         '10. How often do you get distracted by Social media when you are busy doing something?': 'ADHD Q2',\n",
    "                         \"11. Do you feel restless if you haven't used Social media in a while?\": 'Anxiety Q1',\n",
    "                         '12. On a scale of 1 to 5, how easily distracted are you?': 'ADHD Q3',\n",
    "                         '13. On a scale of 1 to 5, how much are you bothered by worries?': 'Anxiety Q2',\n",
    "                         '14. Do you find it difficult to concentrate on things?': 'ADHD Q4',\n",
    "                         '15. On a scale of 1-5, how often do you compare yourself to other successful people through the use of social media?': 'Self Esteem Q1',\n",
    "                         '16. Following the previous question, how do you feel about these comparisons, generally speaking?': 'Self Esteem Q2',\n",
    "                         '17. How often do you look to seek validation from features of social media?': 'Self Esteem Q3',\n",
    "                         '18. How often do you feel depressed or down?': 'Depression Q1',\n",
    "                         '19. On a scale of 1 to 5, how frequently does your interest in daily activities fluctuate?': 'Depression Q2',\n",
    "                         '20. On a scale of 1 to 5, how often do you face issues regarding sleep?': 'Depression Q3'}, inplace=True)"
   ]
  },
  {
   "cell_type": "code",
   "execution_count": null,
   "metadata": {},
   "outputs": [
    {
     "name": "stderr",
     "output_type": "stream",
     "text": [
      "WARNING:dowhy.causal_model:Causal Graph not provided. DoWhy will construct a graph based on data inputs.\n",
      "INFO:dowhy.causal_model:Model to find the causal effect of treatment ['Total Score'] on outcome ['Hours Per Day']\n",
      "WARNING:dowhy.causal_model:There are an additional 7 variables in the dataset that are not in the graph. Variable names are: '['Age', 'In a relationship', 'Married', 'Salaried Worker', 'School Student', 'Single', 'University Student']'\n",
      "INFO:dowhy.causal_identifier.auto_identifier:Causal effect can be identified.\n",
      "INFO:dowhy.causal_identifier.auto_identifier:Instrumental variables for treatment and outcome:[]\n",
      "INFO:dowhy.causal_identifier.auto_identifier:Frontdoor variables for treatment and outcome:[]\n",
      "INFO:dowhy.causal_model:linear_regression\n",
      "INFO:dowhy.causal_estimator:INFO: Using Linear Regression Estimator\n",
      "INFO:dowhy.causal_estimator:b: Hours Per Day~Total Score+Depression Score+ADHD Score+Anxiety Score+Self Esteem Score\n"
     ]
    },
    {
     "name": "stdout",
     "output_type": "stream",
     "text": [
      "*** Causal Estimate ***\n",
      "\n",
      "## Identified estimand\n",
      "Estimand type: EstimandType.NONPARAMETRIC_ATE\n",
      "\n",
      "### Estimand : 1\n",
      "Estimand name: backdoor\n",
      "Estimand expression:\n",
      "      d                                                                       \n",
      "──────────────(E[Hours Per Day|Depression Score,ADHD Score,Anxiety Score,Self \n",
      "d[Total Score]                                                                \n",
      "\n",
      "              \n",
      "Esteem Score])\n",
      "              \n",
      "Estimand assumption 1, Unconfoundedness: If U→{Total Score} and U→Hours Per Day then P(Hours Per Day|Total Score,Depression Score,ADHD Score,Anxiety Score,Self Esteem Score,U) = P(Hours Per Day|Total Score,Depression Score,ADHD Score,Anxiety Score,Self Esteem Score)\n",
      "\n",
      "## Realized estimand\n",
      "b: Hours Per Day~Total Score+Depression Score+ADHD Score+Anxiety Score+Self Esteem Score\n",
      "Target units: ate\n",
      "\n",
      "## Estimate\n",
      "Mean value: 0.0705858818267544\n",
      "\n"
     ]
    },
    {
     "name": "stderr",
     "output_type": "stream",
     "text": [
      "/Users/nakayamadaiki/.asdf/installs/python/3.11.6/lib/python3.11/site-packages/dowhy/causal_estimators/regression_estimator.py:131: FutureWarning: Series.__getitem__ treating keys as positions is deprecated. In a future version, integer keys will always be treated as labels (consistent with DataFrame behavior). To access a value by position, use `ser.iloc[pos]`\n",
      "  intercept_parameter = self.model.params[0]\n"
     ]
    }
   ],
   "source": [
    "# Define causal model\n",
    "model = CausalModel(\n",
    "    data=df,\n",
    "    treatment='Total Score',\n",
    "    outcome='Hours Per Day',\n",
    "    common_causes=['ADHD Score', 'Anxiety Score',\n",
    "                   'Self Esteem Score', 'Depression Score']\n",
    ")\n",
    "\n",
    "# Identify causal effect\n",
    "identified_estimand = model.identify_effect()\n",
    "\n",
    "# Estimate causal effect\n",
    "estimate = model.estimate_effect(identified_estimand,\n",
    "                                 method_name=\"backdoor.linear_regression\")\n",
    "\n",
    "print(estimate)"
   ]
  }
 ],
 "metadata": {
  "kernelspec": {
   "display_name": "Python 3",
   "language": "python",
   "name": "python3"
  },
  "language_info": {
   "codemirror_mode": {
    "name": "ipython",
    "version": 3
   },
   "file_extension": ".py",
   "mimetype": "text/x-python",
   "name": "python",
   "nbconvert_exporter": "python",
   "pygments_lexer": "ipython3",
   "version": "3.11.6"
  }
 },
 "nbformat": 4,
 "nbformat_minor": 2
}
