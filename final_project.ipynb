{
 "cells": [
  {
   "cell_type": "markdown",
   "metadata": {},
   "source": [
    "### Import Required Packages"
   ]
  },
  {
   "cell_type": "code",
   "execution_count": 129,
   "metadata": {},
   "outputs": [],
   "source": [
    "import pandas as pd\n",
    "import matplotlib.pyplot as plt"
   ]
  },
  {
   "cell_type": "markdown",
   "metadata": {},
   "source": [
    "### Constant Variables"
   ]
  },
  {
   "cell_type": "code",
   "execution_count": 130,
   "metadata": {},
   "outputs": [],
   "source": [
    "DATASET_PATH = './Data/dataset.csv'\n",
    "COLUMNS_TO_DROP = [\n",
    "    'Timestamp',\n",
    "    'Affiliations',\n",
    "    'Platforms Used',\n",
    "]"
   ]
  },
  {
   "cell_type": "markdown",
   "metadata": {},
   "source": [
    "### Data Cleaning"
   ]
  },
  {
   "cell_type": "markdown",
   "metadata": {},
   "source": [
    "#### Load the dataset"
   ]
  },
  {
   "cell_type": "code",
   "execution_count": 131,
   "metadata": {},
   "outputs": [],
   "source": [
    "df = pd.read_csv(DATASET_PATH)"
   ]
  },
  {
   "cell_type": "markdown",
   "metadata": {},
   "source": [
    "#### Rename the columns for data analysis"
   ]
  },
  {
   "cell_type": "code",
   "execution_count": 132,
   "metadata": {},
   "outputs": [],
   "source": [
    "\n",
    "df.rename(columns={'1. What is your age?': 'Age', '2. Gender': 'Gender', '3. Relationship Status': 'Relationship Status',\n",
    "                   '4. Occupation Status': 'Occupation',\n",
    "                   '5. What type of organizations are you affiliated with?': 'Affiliations',\n",
    "                   '6. Do you use social media?': 'Social Media User?',\n",
    "                   '7. What social media platforms do you commonly use?': 'Platforms Used',\n",
    "                   '8. What is the average time you spend on social media every day?': 'Hours Per Day',\n",
    "                   '9. How often do you find yourself using Social media without a specific purpose?': 'ADHD Q1',\n",
    "                   '10. How often do you get distracted by Social media when you are busy doing something?': 'ADHD Q2',\n",
    "                   \"11. Do you feel restless if you haven't used Social media in a while?\": 'Anxiety Q1',\n",
    "                   '12. On a scale of 1 to 5, how easily distracted are you?': 'ADHD Q3',\n",
    "                   '13. On a scale of 1 to 5, how much are you bothered by worries?': 'Anxiety Q2',\n",
    "                   '14. Do you find it difficult to concentrate on things?': 'ADHD Q4',\n",
    "                   '15. On a scale of 1-5, how often do you compare yourself to other successful people through the use of social media?': 'Self Esteem Q1',\n",
    "                   '16. Following the previous question, how do you feel about these comparisons, generally speaking?': 'Self Esteem Q2',\n",
    "                   '17. How often do you look to seek validation from features of social media?': 'Self Esteem Q3',\n",
    "                   '18. How often do you feel depressed or down?': 'Depression Q1',\n",
    "                   '19. On a scale of 1 to 5, how frequently does your interest in daily activities fluctuate?': 'Depression Q2',\n",
    "                   '20. On a scale of 1 to 5, how often do you face issues regarding sleep?': 'Depression Q3'}, inplace=True)\n",
    "df.drop(COLUMNS_TO_DROP, inplace=True, axis=1)"
   ]
  },
  {
   "cell_type": "markdown",
   "metadata": {},
   "source": [
    "#### Unify the gender category and convert age type"
   ]
  },
  {
   "cell_type": "code",
   "execution_count": 133,
   "metadata": {},
   "outputs": [],
   "source": [
    "\n",
    "df.replace('Non-binary', 'Non-Binary', inplace=True)\n",
    "df.replace('Nonbinary ', 'Non-Binary', inplace=True)\n",
    "df.replace('NB', 'Non-Binary', inplace=True)\n",
    "df.replace('Non binary ', 'Non-Binary', inplace=True)\n",
    "\n",
    "df['Age'] = df['Age'].astype('int64')"
   ]
  },
  {
   "cell_type": "markdown",
   "metadata": {},
   "source": [
    "#### Calculate ADHD and Depression Score"
   ]
  },
  {
   "cell_type": "code",
   "execution_count": 134,
   "metadata": {},
   "outputs": [],
   "source": [
    "\n",
    "df.loc[df['Self Esteem Q2'] == 1, 'Self Esteem Q2'] = 5\n",
    "df.loc[df['Self Esteem Q2'] == 2, 'Self Esteem Q2'] = 4\n",
    "df.loc[df['Self Esteem Q2'] == 3, 'Self Esteem Q2'] = 3\n",
    "df.loc[df['Self Esteem Q2'] == 4, 'Self Esteem Q2'] = 2\n",
    "df.loc[df['Self Esteem Q2'] == 5, 'Self Esteem Q2'] = 1\n",
    "\n",
    "ADHD = ['ADHD Q1', 'ADHD Q2', 'ADHD Q3', 'ADHD Q4']\n",
    "df['ADHD Score'] = df[ADHD].sum(axis=1)\n",
    "\n",
    "Anxiety = ['Anxiety Q1', 'Anxiety Q2']\n",
    "df['Anxiety Score'] = df[Anxiety].sum(axis=1)\n",
    "\n",
    "SelfEsteem = ['Self Esteem Q1', 'Self Esteem Q2', 'Self Esteem Q3']\n",
    "df['Self Esteem Score'] = df[SelfEsteem].sum(axis=1)\n",
    "\n",
    "Depression = ['Depression Q1', 'Depression Q2', 'Depression Q3']\n",
    "df['Depression Score'] = df[Depression].sum(axis=1)\n",
    "\n",
    "Total = ['ADHD Score', 'Anxiety Score',\n",
    "         'Self Esteem Score', 'Depression Score']\n",
    "df['Total Score'] = df[Total].sum(axis=1)\n",
    "\n",
    "# Deleting question columns and timestamp columns as they are no longer used\n",
    "df.drop(columns=ADHD + Anxiety + SelfEsteem + Depression, inplace=True)"
   ]
  },
  {
   "cell_type": "markdown",
   "metadata": {},
   "source": [
    "#### Convert usage time into integer"
   ]
  },
  {
   "cell_type": "code",
   "execution_count": 135,
   "metadata": {},
   "outputs": [],
   "source": [
    "\n",
    "df.loc[df['Hours Per Day'] == 'More than 5 hours', 'Hours Per Day'] = 5.5\n",
    "df.loc[df['Hours Per Day'] == 'Between 2 and 3 hours', 'Hours Per Day'] = 2.5\n",
    "df.loc[df['Hours Per Day'] == 'Between 3 and 4 hours', 'Hours Per Day'] = 3.5\n",
    "df.loc[df['Hours Per Day'] == 'Between 1 and 2 hours', 'Hours Per Day'] = 1.5\n",
    "df.loc[df['Hours Per Day'] == 'Between 4 and 5 hours', 'Hours Per Day'] = 4.5\n",
    "df.loc[df['Hours Per Day'] == 'Less than an Hour', 'Hours Per Day'] = 0.5\n",
    "\n",
    "# Since the user indicated that they do not use social media but provided platforms to use, this is assumed to be a typo\n",
    "df.loc[df['Social Media User?'] == 'No', 'Social Media User?'] = 'Yes'\n",
    "\n",
    "# since the person who answered 91 also answered that they are college student, we assumed that this was a typo\n",
    "df.loc[df['Age'] == 91, 'Age'] = 19"
   ]
  },
  {
   "cell_type": "markdown",
   "metadata": {},
   "source": [
    "#### Map Categorical Values to Numerical Values"
   ]
  },
  {
   "cell_type": "code",
   "execution_count": 136,
   "metadata": {},
   "outputs": [],
   "source": [
    "df.loc[df['Relationship Status'] ==\n",
    "       'In a relationship', 'Relationship Status'] = 1\n",
    "df.loc[df['Relationship Status'] == 'Single', 'Relationship Status'] = 2\n",
    "df.loc[df['Relationship Status'] == 'Married', 'Relationship Status'] = 3\n",
    "df.loc[df['Relationship Status'] == 'Divorced', 'Relationship Status'] = 4\n",
    "df['Relationship Status'] = df['Relationship Status'].astype('int64')\n",
    "\n",
    "df.loc[df['Occupation'] ==\n",
    "       'University Student', 'Occupation'] = 1\n",
    "df.loc[df['Occupation'] ==\n",
    "       'School Student', 'Occupation'] = 2\n",
    "df.loc[df['Occupation'] ==\n",
    "       'Salaried Worker', 'Occupation'] = 3\n",
    "df.loc[df['Occupation'] ==\n",
    "       'Retired', 'Occupation'] = 4\n",
    "df['Occupation'] = df['Occupation'].astype('int64')"
   ]
  },
  {
   "cell_type": "markdown",
   "metadata": {},
   "source": [
    "### Final Dataset"
   ]
  },
  {
   "cell_type": "code",
   "execution_count": 137,
   "metadata": {},
   "outputs": [
    {
     "data": {
      "text/html": [
       "<div>\n",
       "<style scoped>\n",
       "    .dataframe tbody tr th:only-of-type {\n",
       "        vertical-align: middle;\n",
       "    }\n",
       "\n",
       "    .dataframe tbody tr th {\n",
       "        vertical-align: top;\n",
       "    }\n",
       "\n",
       "    .dataframe thead th {\n",
       "        text-align: right;\n",
       "    }\n",
       "</style>\n",
       "<table border=\"1\" class=\"dataframe\">\n",
       "  <thead>\n",
       "    <tr style=\"text-align: right;\">\n",
       "      <th></th>\n",
       "      <th>Age</th>\n",
       "      <th>Gender</th>\n",
       "      <th>Relationship Status</th>\n",
       "      <th>Occupation</th>\n",
       "      <th>Social Media User?</th>\n",
       "      <th>Hours Per Day</th>\n",
       "      <th>ADHD Score</th>\n",
       "      <th>Anxiety Score</th>\n",
       "      <th>Self Esteem Score</th>\n",
       "      <th>Depression Score</th>\n",
       "      <th>Total Score</th>\n",
       "    </tr>\n",
       "  </thead>\n",
       "  <tbody>\n",
       "    <tr>\n",
       "      <th>0</th>\n",
       "      <td>21</td>\n",
       "      <td>Male</td>\n",
       "      <td>1</td>\n",
       "      <td>1</td>\n",
       "      <td>Yes</td>\n",
       "      <td>2.5</td>\n",
       "      <td>18</td>\n",
       "      <td>4</td>\n",
       "      <td>7</td>\n",
       "      <td>14</td>\n",
       "      <td>43</td>\n",
       "    </tr>\n",
       "    <tr>\n",
       "      <th>1</th>\n",
       "      <td>21</td>\n",
       "      <td>Female</td>\n",
       "      <td>2</td>\n",
       "      <td>1</td>\n",
       "      <td>Yes</td>\n",
       "      <td>5.5</td>\n",
       "      <td>15</td>\n",
       "      <td>7</td>\n",
       "      <td>7</td>\n",
       "      <td>14</td>\n",
       "      <td>43</td>\n",
       "    </tr>\n",
       "    <tr>\n",
       "      <th>2</th>\n",
       "      <td>21</td>\n",
       "      <td>Female</td>\n",
       "      <td>2</td>\n",
       "      <td>1</td>\n",
       "      <td>Yes</td>\n",
       "      <td>3.5</td>\n",
       "      <td>11</td>\n",
       "      <td>6</td>\n",
       "      <td>7</td>\n",
       "      <td>11</td>\n",
       "      <td>35</td>\n",
       "    </tr>\n",
       "    <tr>\n",
       "      <th>3</th>\n",
       "      <td>21</td>\n",
       "      <td>Female</td>\n",
       "      <td>2</td>\n",
       "      <td>1</td>\n",
       "      <td>Yes</td>\n",
       "      <td>5.5</td>\n",
       "      <td>12</td>\n",
       "      <td>6</td>\n",
       "      <td>8</td>\n",
       "      <td>9</td>\n",
       "      <td>35</td>\n",
       "    </tr>\n",
       "    <tr>\n",
       "      <th>4</th>\n",
       "      <td>21</td>\n",
       "      <td>Female</td>\n",
       "      <td>2</td>\n",
       "      <td>1</td>\n",
       "      <td>Yes</td>\n",
       "      <td>2.5</td>\n",
       "      <td>17</td>\n",
       "      <td>9</td>\n",
       "      <td>9</td>\n",
       "      <td>9</td>\n",
       "      <td>44</td>\n",
       "    </tr>\n",
       "  </tbody>\n",
       "</table>\n",
       "</div>"
      ],
      "text/plain": [
       "   Age  Gender  Relationship Status  Occupation Social Media User?  \\\n",
       "0   21    Male                    1           1                Yes   \n",
       "1   21  Female                    2           1                Yes   \n",
       "2   21  Female                    2           1                Yes   \n",
       "3   21  Female                    2           1                Yes   \n",
       "4   21  Female                    2           1                Yes   \n",
       "\n",
       "  Hours Per Day  ADHD Score  Anxiety Score  Self Esteem Score  \\\n",
       "0           2.5          18              4                  7   \n",
       "1           5.5          15              7                  7   \n",
       "2           3.5          11              6                  7   \n",
       "3           5.5          12              6                  8   \n",
       "4           2.5          17              9                  9   \n",
       "\n",
       "   Depression Score  Total Score  \n",
       "0                14           43  \n",
       "1                14           43  \n",
       "2                11           35  \n",
       "3                 9           35  \n",
       "4                 9           44  "
      ]
     },
     "execution_count": 137,
     "metadata": {},
     "output_type": "execute_result"
    }
   ],
   "source": [
    "df.head()"
   ]
  },
  {
   "cell_type": "markdown",
   "metadata": {},
   "source": [
    "### Data Statistics"
   ]
  },
  {
   "cell_type": "markdown",
   "metadata": {},
   "source": [
    "#### Data Distribution"
   ]
  },
  {
   "cell_type": "code",
   "execution_count": 138,
   "metadata": {},
   "outputs": [
    {
     "data": {
      "text/plain": [
       "array([[<Axes: title={'center': 'Age'}>,\n",
       "        <Axes: title={'center': 'Relationship Status'}>,\n",
       "        <Axes: title={'center': 'Occupation'}>],\n",
       "       [<Axes: title={'center': 'ADHD Score'}>,\n",
       "        <Axes: title={'center': 'Anxiety Score'}>,\n",
       "        <Axes: title={'center': 'Self Esteem Score'}>],\n",
       "       [<Axes: title={'center': 'Depression Score'}>,\n",
       "        <Axes: title={'center': 'Total Score'}>, <Axes: >]], dtype=object)"
      ]
     },
     "execution_count": 138,
     "metadata": {},
     "output_type": "execute_result"
    },
    {
     "data": {
      "image/png": "[encoded data removed]",
      "text/plain": [
       "<Figure size 1200x800 with 9 Axes>"
      ]
     },
     "metadata": {},
     "output_type": "display_data"
    }
   ],
   "source": [
    "df.hist(figsize=(12, 8))"
   ]
  }
 ],
 "metadata": {
  "kernelspec": {
   "display_name": "Python 3",
   "language": "python",
   "name": "python3"
  },
  "language_info": {
   "codemirror_mode": {
    "name": "ipython",
    "version": 3
   },
   "file_extension": ".py",
   "mimetype": "text/x-python",
   "name": "python",
   "nbconvert_exporter": "python",
   "pygments_lexer": "ipython3",
   "version": "3.11.6"
  }
 },
 "nbformat": 4,
 "nbformat_minor": 2
}
